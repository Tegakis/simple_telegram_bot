{
 "cells": [
  {
   "cell_type": "markdown",
   "id": "6319a36f-c52d-4f83-b76b-d333b74a8f83",
   "metadata": {},
   "source": [
    "## 1. Импорт и установка библиотек"
   ]
  },
  {
   "cell_type": "code",
   "execution_count": null,
   "id": "c3e2ce44-1354-4c1f-a0c5-3cb43cc42d6f",
   "metadata": {},
   "outputs": [],
   "source": [
    "# Установка библиотек\n",
    "pip install pyTelegramBotAPI"
   ]
  },
  {
   "cell_type": "code",
   "execution_count": 90,
   "id": "b5ac3343-b0cf-43b0-a6c8-2e8fb0a9a95b",
   "metadata": {},
   "outputs": [],
   "source": [
    "# Импорт всех необходимых библиотек\n",
    "import telebot\n",
    "from telebot import types\n",
    "import requests\n",
    "import sqlite3"
   ]
  },
  {
   "cell_type": "markdown",
   "id": "3929485d-cdd4-4189-9a00-3c6b4c669db3",
   "metadata": {},
   "source": [
    "## 2. Глобальные переменные"
   ]
  },
  {
   "cell_type": "code",
   "execution_count": 91,
   "id": "5e4c6e8f-f9dd-48a0-8873-2b7ae49f8ed0",
   "metadata": {},
   "outputs": [],
   "source": [
    "API_KEY = 1 # API-КЛЮЧ chatGPT\n",
    "API_BOT = '6014215162:AAE3WpfnXjnmpKgWTJn5JEi13WtlvaTiV10' # API-КЛЮЧ бота телеграм"
   ]
  },
  {
   "cell_type": "markdown",
   "id": "d19ef93f-3a4b-48ef-b79b-d7aeeb4cbce3",
   "metadata": {},
   "source": [
    "## 3. Дополнительные функции"
   ]
  },
  {
   "cell_type": "code",
   "execution_count": 92,
   "id": "07299553-bccb-41fb-834b-243da47d4216",
   "metadata": {},
   "outputs": [],
   "source": [
    "# Функция для отправки запросов chatGPT\n",
    "def ask_gpt3(text):\n",
    "\n",
    "    headers = {\n",
    "        'Authorization': f'Bearer {API_KEY}',\n",
    "        'Content-Type': 'application/json',\n",
    "    }\n",
    "    data = {\n",
    "        \"prompt\": f\"{text} обработай это предложение следующим форматом: 1) Выведи оригинал предложение 2) Выведи перевод предложения на русском языке 3) Выдели слова-реалии из предложения на китайском языке 4) Дай каждой реалии справку и перевод. \",\n",
    "        \"max_tokens\": 500\n",
    "    }\n",
    "    response = requests.post('https://api.openai.com/v1/engines/davinci-codex/completions', json=data, headers=headers)\n",
    "    if response.status_code == 200:\n",
    "        return response.json()['choices'][0]['text'].strip()\n",
    "    else:\n",
    "        return \"Произошла ошибка во время обработки запроса.\""
   ]
  },
  {
   "cell_type": "markdown",
   "id": "2e13468b-2c83-4f10-b4b7-0729e670d541",
   "metadata": {},
   "source": [
    "## 4. Основной код бота"
   ]
  },
  {
   "cell_type": "code",
   "execution_count": 93,
   "id": "052ba4ac-662d-490c-9efe-20fd484dab8f",
   "metadata": {},
   "outputs": [],
   "source": [
    "# Инициируем бота\n",
    "bot = telebot.TeleBot(API_BOT)"
   ]
  },
  {
   "cell_type": "code",
   "execution_count": 94,
   "id": "06ead2ac-3667-4f9e-bd3e-772e12c4536a",
   "metadata": {},
   "outputs": [],
   "source": [
    "# Создание начальной команды /start. При введении в чат пользователем команды '/start'\n",
    "# инициируется запуск функции def main(message)\n",
    "@bot.message_handler(commands=['start'])\n",
    "def main(message):\n",
    "# Создание \"шаблона\" (контейнера) в который мы будем вставлять кнопки\n",
    "    markup = types.InlineKeyboardMarkup()\n",
    "# Создание первой кнопки, параметр text - текст кнопки, параметр callback_data - \"триггер\", создаваемый кнопкой,\n",
    "# который перехватывается специальными функциями под декоратором (@bot.callback_query_handler) \n",
    "    btn1 = types.InlineKeyboardButton(\n",
    "        text='1. Выучить новое слово-реаль',\n",
    "        callback_data='send'\n",
    "    )\n",
    "# Создание второй кнопки  \n",
    "    btn2 = types.InlineKeyboardButton(\n",
    "        text='2. Найти слово-реаль', \n",
    "        callback_data='tran'\n",
    "    )\n",
    "# Вставка кнопок в контейнер\n",
    "    markup.add(btn1, btn2)\n",
    "# Отправка сообщения пользователю. Первый параметр (chat_id) - уникальный id чата, в который будут\n",
    "# отправляться сообщения, второй параметр (text) - текст сообщения, третий параметр (reply_markup) - дополнительные \n",
    "# элементы интерфейса сообщения.\n",
    "    bot.send_message(\n",
    "        message.chat.id,\n",
    "        'Привет, пользователь! Я — ваш помощник в изучении китайского языка. Я могу помочь вам найти и перевести слова-реалии в предложении, а также выдать случайное слово-реалию. Что вы хотите сделать?', \n",
    "        reply_markup=markup\n",
    "        )"
   ]
  },
  {
   "cell_type": "code",
   "execution_count": 95,
   "id": "cedf9c3f-d36b-4513-8cbf-df0f8d8d7d4f",
   "metadata": {},
   "outputs": [],
   "source": [
    "# Реализация кнопки '1. Выучить новое слово-реаль'.\n",
    "# bot.callback_query_handler(func=lambda call: call.data == 'send') перехватывает сингнал (триггер) 'send', создаваемый кнопкой '1. Выучить новое слово-реаль'\n",
    "# и инициирует запуск функции def send_table(call)\n",
    "@bot.callback_query_handler(func=lambda call: call.data == 'send')\n",
    "def send_table(call):\n",
    "# Удаление предыдущего сообщения    \n",
    "    bot.delete_message(call.message.chat.id, call.message.message_id)\n",
    "# Создание контейнера для кнопок \n",
    "    markup1 = types.InlineKeyboardMarkup()\n",
    "# Создание первой кнопки\n",
    "    btn_1 = types.InlineKeyboardButton(\n",
    "        '1. На главную', \n",
    "        callback_data = 'start'\n",
    "    )\n",
    "# Создание второй кнопки\n",
    "    btn_2 = types.InlineKeyboardButton(\n",
    "        '2. Ещё одно слово', \n",
    "        callback_data = 'send'\n",
    "    )\n",
    "# Вставка кнопок в контейнер\n",
    "    markup1.add(btn_1, btn_2)\n",
    "# Подключение к локальной базе данных\n",
    "    conn = sqlite3.connect('base_tran3.sql')\n",
    "# Подключение курсора управления базой данных\n",
    "    cur = conn.cursor()\n",
    "# Выполнение SQL-запроса. SQL-запрос выводит случайную реаль из локальной базы данных\n",
    "    cur.execute('SELECT description FROM trans ORDER BY RANDOM() LIMIT 1')\n",
    "    word = cur.fetchall()\n",
    "# Отключение от базы данных и закрытие курсора управления\n",
    "    cur.close()\n",
    "    conn.close()\n",
    "# Отправка сообщения пользователю со словом-реалью из локальной базы данных\n",
    "    bot.send_message(\n",
    "        call.message.chat.id, \n",
    "        word, \n",
    "        reply_markup=markup1\n",
    "    )   "
   ]
  },
  {
   "cell_type": "code",
   "execution_count": 96,
   "id": "8d4f00a4-4c77-4559-a90a-e52cb0b85bc6",
   "metadata": {},
   "outputs": [],
   "source": [
    "# Реализация кнопки '2. Найти слово-реаль'\n",
    "@bot.callback_query_handler(func=lambda call: call.data == 'tran')\n",
    "def prompt(call):\n",
    "# Отправка сообщения\n",
    "    bot.delete_message(call.message.chat.id, call.message.message_id)\n",
    "    message = bot.send_message(call.message.chat.id, 'Введите предложение со словами-реалями:')\n",
    "# Метод .register_next_step_handler регестрирует сообщение (указывается первым параметром), которое отправил бот или пользователь\n",
    "# и начинает выполнять функцию, которая указана вторым параметром\n",
    "    bot.register_next_step_handler(message, handle_user_message)\n",
    "\n",
    "def handle_user_message(message):\n",
    "# Отправка запроса и получение ответа от ChatGPT \n",
    "    response = ask_gpt3(message.text)\n",
    "\n",
    "    markup1 = types.InlineKeyboardMarkup()\n",
    "    \n",
    "    btn_1 = types.InlineKeyboardButton(\n",
    "        '1. На главную', \n",
    "        callback_data = 'start'\n",
    "    )\n",
    "    \n",
    "    btn_2 = types.InlineKeyboardButton(\n",
    "        '2. Ещё одно предложение', \n",
    "        callback_data = 'tran'\n",
    "    )\n",
    "    \n",
    "    markup1.add(btn_1, btn_2)\n",
    "    \n",
    "    bot.send_message(\n",
    "        message.chat.id, \n",
    "        response, \n",
    "        reply_markup=markup1\n",
    "    )"
   ]
  },
  {
   "cell_type": "code",
   "execution_count": 97,
   "id": "8ba569ad-e7cc-4088-8891-68788939e298",
   "metadata": {},
   "outputs": [],
   "source": [
    "# Создание функции возвращения на главное меню \n",
    "@bot.callback_query_handler(func=lambda call: call.data == 'start')\n",
    "def restart(call):\n",
    "    bot.delete_message(call.message.chat.id, call.message.message_id)\n",
    "    main(call.message)"
   ]
  },
  {
   "cell_type": "markdown",
   "id": "c709187b-002b-4a23-8594-561146e1a6a9",
   "metadata": {},
   "source": [
    "### Создание команд разработчика "
   ]
  },
  {
   "cell_type": "code",
   "execution_count": 98,
   "id": "c185b7b7-0a51-46ef-8ecc-929fa994cd8d",
   "metadata": {},
   "outputs": [],
   "source": [
    "# Функция для создания локальной базы данных через бота telegram\n",
    "@bot.message_handler(commands=['create_table'])\n",
    "def create_table(message):\n",
    "    conn = sqlite3.connect('base_tran3.sql')\n",
    "    cur = conn.cursor()\n",
    "# Создание локальной базы данных под именем trans, только в том случае, если её ещё нет \n",
    "    cur.execute('CREATE TABLE IF NOT EXISTS trans (id int auto_increment primary key, name varchar(25), description varchar(500))')\n",
    "    conn.commit()\n",
    "    \n",
    "    cur.close()\n",
    "    conn.close()\n",
    "\n",
    "    bot.send_message(message.chat.id, 'Таблица создана!')"
   ]
  },
  {
   "cell_type": "code",
   "execution_count": 99,
   "id": "ffce4a5c-d57c-4dc3-bb2a-2803411cc30a",
   "metadata": {},
   "outputs": [],
   "source": [
    "# Функции для добавления слов в базу данных\n",
    "@bot.message_handler(commands=['add'])\n",
    "def add_table(message):\n",
    "    bot.send_message(message.chat.id, 'Введите слово-реаль на китайском языке')\n",
    "    bot.register_next_step_handler(message, add_name)\n",
    "\n",
    "def add_name(message):\n",
    "\n",
    "    name = message.text\n",
    "    \n",
    "    bot.send_message(message.chat.id, 'Напишите описание')\n",
    "    \n",
    "    bot.register_next_step_handler(\n",
    "        message, \n",
    "        add_description,\n",
    "        name\n",
    "    )\n",
    "\n",
    "def add_description(message, name):\n",
    "    \n",
    "    desp = message.text\n",
    "    \n",
    "    conn = sqlite3.connect('base_tran3.sql')\n",
    "    cur = conn.cursor()\n",
    "    cur.execute('INSERT INTO trans (name, description) VALUES (\"%s\", \"%s\")' %(name, desp))\n",
    "    conn.commit()\n",
    "    cur.close()\n",
    "    conn.close()\n",
    "    \n",
    "    markup1 = types.InlineKeyboardMarkup()\n",
    "    \n",
    "    btn_1 = types.InlineKeyboardButton(\n",
    "        '1. Дабавить ещё', \n",
    "        callback_data = 'add_more'\n",
    "    )\n",
    "    \n",
    "    markup1.add(btn_1)\n",
    "    \n",
    "    bot.send_message(\n",
    "        message.chat.id, \n",
    "        'Слово-реаль добавлена в базу данных', \n",
    "        reply_markup=markup1\n",
    "    )\n",
    "\n",
    "\n",
    "@bot.callback_query_handler(func=lambda call: call.data == 'add_more')\n",
    "def callback_add_more(call):\n",
    "    bot.delete_message(call.message.chat.id, call.message.message_id)\n",
    "    bot.answer_callback_query(call.id)\n",
    "    add_table(call.message)"
   ]
  },
  {
   "cell_type": "code",
   "execution_count": null,
   "id": "99edc440-f9a4-4435-945c-72b9a646d92f",
   "metadata": {},
   "outputs": [],
   "source": [
    "# Метод для поллинга бота\n",
    "bot.polling(non_stop=True)"
   ]
  }
 ],
 "metadata": {
  "kernelspec": {
   "display_name": "Python 3 (ipykernel)",
   "language": "python",
   "name": "python3"
  },
  "language_info": {
   "codemirror_mode": {
    "name": "ipython",
    "version": 3
   },
   "file_extension": ".py",
   "mimetype": "text/x-python",
   "name": "python",
   "nbconvert_exporter": "python",
   "pygments_lexer": "ipython3",
   "version": "3.11.7"
  }
 },
 "nbformat": 4,
 "nbformat_minor": 5
}
